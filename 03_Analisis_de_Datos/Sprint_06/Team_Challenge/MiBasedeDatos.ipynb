{
 "cells": [
  {
   "cell_type": "code",
   "execution_count": 20,
   "id": "8897d8e4",
   "metadata": {},
   "outputs": [],
   "source": [
    "import sqlite3\n",
    "import pandas as pd\n",
    "\n",
    "conexion = sqlite3.connect(\"proveedores.db\")\n",
    "cursor = conexion.cursor()"
   ]
  },
  {
   "cell_type": "code",
   "execution_count": 21,
   "id": "92352a9b",
   "metadata": {},
   "outputs": [
    {
     "data": {
      "text/plain": [
       "<sqlite3.Cursor at 0x2072f697140>"
      ]
     },
     "execution_count": 21,
     "metadata": {},
     "output_type": "execute_result"
    }
   ],
   "source": [
    "# Tabla proveedor\n",
    "cursor.execute('''\n",
    "    CREATE TABLE IF NOT EXISTS Proveedor (\n",
    "        id_proveedor INTEGER PRIMARY KEY AUTOINCREMENT,\n",
    "        nombre TEXT NOT NULL,\n",
    "        direccion TEXT,\n",
    "        ciudad TEXT,\n",
    "        provincia TEXT,\n",
    "        cp TEXT,\n",
    "        telefono TEXT)\n",
    "''')"
   ]
  },
  {
   "cell_type": "code",
   "execution_count": 22,
   "id": "92d3138b",
   "metadata": {},
   "outputs": [
    {
     "data": {
      "text/plain": [
       "<sqlite3.Cursor at 0x2072f697140>"
      ]
     },
     "execution_count": 22,
     "metadata": {},
     "output_type": "execute_result"
    }
   ],
   "source": [
    "# Tabla categoría\n",
    "cursor.execute('''\n",
    "    CREATE TABLE IF NOT EXISTS Categoria (\n",
    "        id_categoria INTEGER PRIMARY KEY AUTOINCREMENT,\n",
    "        nombre TEXT NOT NULL)\n",
    "''')"
   ]
  },
  {
   "cell_type": "code",
   "execution_count": 23,
   "id": "0137d163",
   "metadata": {},
   "outputs": [
    {
     "data": {
      "text/plain": [
       "<sqlite3.Cursor at 0x2072f697140>"
      ]
     },
     "execution_count": 23,
     "metadata": {},
     "output_type": "execute_result"
    }
   ],
   "source": [
    "#Tabla pieza\n",
    "cursor.execute('''\n",
    "    CREATE TABLE IF NOT EXISTS Pieza (\n",
    "        id_pieza INTEGER PRIMARY KEY AUTOINCREMENT,\n",
    "        nombre TEXT NOT NULL,\n",
    "        marca TEXT,\n",
    "        modelo_compatible TEXT,\n",
    "        color TEXT,\n",
    "        precio FLOAT,\n",
    "        id_categoria INTEGER,\n",
    "        FOREIGN KEY (id_categoria) REFERENCES Categoria(id_categoria))\n",
    "''')"
   ]
  },
  {
   "cell_type": "code",
   "execution_count": 24,
   "id": "8852a7e1",
   "metadata": {},
   "outputs": [
    {
     "data": {
      "text/plain": [
       "<sqlite3.Cursor at 0x2072f697140>"
      ]
     },
     "execution_count": 24,
     "metadata": {},
     "output_type": "execute_result"
    }
   ],
   "source": [
    "# Tabla almacen\n",
    "cursor.execute('''\n",
    "    CREATE TABLE IF NOT EXISTS Stock (\n",
    "        id_stock INTEGER PRIMARY KEY AUTOINCREMENT,\n",
    "        id_proveedor INTEGER,\n",
    "        id_pieza INTEGER,\n",
    "        fecha DATE NOT NULL,\n",
    "        cantidad INTEGER NOT NULL,\n",
    "        ubicacion TEXT,\n",
    "        FOREIGN KEY (id_proveedor) REFERENCES Proveedor(id_proveedor),\n",
    "        FOREIGN KEY (id_pieza) REFERENCES Pieza(id_pieza))\n",
    "''')\n"
   ]
  },
  {
   "cell_type": "code",
   "execution_count": 25,
   "id": "49a628d3",
   "metadata": {},
   "outputs": [
    {
     "ename": "OperationalError",
     "evalue": "database is locked",
     "output_type": "error",
     "traceback": [
      "\u001b[31m---------------------------------------------------------------------------\u001b[39m",
      "\u001b[31mOperationalError\u001b[39m                          Traceback (most recent call last)",
      "\u001b[36mCell\u001b[39m\u001b[36m \u001b[39m\u001b[32mIn[25]\u001b[39m\u001b[32m, line 11\u001b[39m\n\u001b[32m      1\u001b[39m \u001b[38;5;66;03m# Introducimos los datos de las categorías\u001b[39;00m\n\u001b[32m      2\u001b[39m categorias = [\n\u001b[32m      3\u001b[39m     (\u001b[33m\"\u001b[39m\u001b[33mPantalla\u001b[39m\u001b[33m\"\u001b[39m,),\n\u001b[32m      4\u001b[39m     (\u001b[33m\"\u001b[39m\u001b[33mBateria\u001b[39m\u001b[33m\"\u001b[39m,),\n\u001b[32m   (...)\u001b[39m\u001b[32m      9\u001b[39m     (\u001b[33m\"\u001b[39m\u001b[33mSensor\u001b[39m\u001b[33m\"\u001b[39m,)\n\u001b[32m     10\u001b[39m ]\n\u001b[32m---> \u001b[39m\u001b[32m11\u001b[39m \u001b[43mcursor\u001b[49m\u001b[43m.\u001b[49m\u001b[43mexecutemany\u001b[49m\u001b[43m(\u001b[49m\u001b[33;43m\"\u001b[39;49m\u001b[33;43mINSERT OR IGNORE INTO Categoria (nombre) VALUES (?)\u001b[39;49m\u001b[33;43m\"\u001b[39;49m\u001b[43m,\u001b[49m\u001b[43m \u001b[49m\u001b[43mcategorias\u001b[49m\u001b[43m)\u001b[49m\n",
      "\u001b[31mOperationalError\u001b[39m: database is locked"
     ]
    }
   ],
   "source": [
    "# Introducimos los datos de las categorías\n",
    "categorias = [\n",
    "    (\"Pantalla\",),\n",
    "    (\"Bateria\",),\n",
    "    (\"Camara\",),\n",
    "    (\"Placabase\",),\n",
    "    (\"Carcasa\",),\n",
    "    (\"Altavoz\",),\n",
    "    (\"Sensor\",)\n",
    "]\n",
    "cursor.executemany(\"INSERT OR IGNORE INTO Categoria (nombre) VALUES (?)\", categorias)"
   ]
  },
  {
   "cell_type": "code",
   "execution_count": null,
   "id": "162ba2af",
   "metadata": {},
   "outputs": [],
   "source": [
    "# Introducimos los datos de los proveedores\n",
    "proveedores = [\n",
    "    (\"Repuestos Mobile S.L.\", \"Calle Circuito 21\", \"Madrid\", \"Madrid\", \"28001\", \"912345678\"),\n",
    "    (\"iFixMovil\", \"Avenida Reparación 101\", \"Barcelona\", \"Barcelona\", \"08001\", \"933456789\"),\n",
    "    (\"ElectroRepuestos\", \"Calle Batería 5\", \"Valencia\", \"Valencia\", \"46001\", \"961234567\"),\n",
    "    (\"Piezas PhoneTech\", \"Polígono Smart 8\", \"Sevilla\", \"Sevilla\", \"41001\", \"954321654\"),\n",
    "    (\"Tecnorrecambios\", \"Ronda Electrónica 44\", \"Bilbao\", \"Vizcaya\", \"48001\", \"944567890\"),\n",
    "    (\"Recambios GSM\", \"Avenida Pantalla 17\", \"Zaragoza\", \"Zaragoza\", \"50001\", \"976543210\"),\n",
    "    (\"Mundo Móvil\", \"Calle Antena 30\", \"Granada\", \"Andalucía\", \"18001\", \"958123456\")\n",
    "]\n",
    "cursor.executemany('''INSERT INTO Proveedor (nombre, direccion, ciudad, provincia, cp, telefono)\n",
    "    VALUES (?, ?, ?, ?, ?, ?)''', proveedores)"
   ]
  },
  {
   "cell_type": "code",
   "execution_count": null,
   "id": "a3146977",
   "metadata": {},
   "outputs": [
    {
     "data": {
      "text/plain": [
       "<sqlite3.Cursor at 0x2327ad6af40>"
      ]
     },
     "execution_count": 19,
     "metadata": {},
     "output_type": "execute_result"
    }
   ],
   "source": [
    "# Introducimos las piezas de las que actualmente disponemos\n",
    "piezas = [\n",
    "    (\"Pantalla OLED\", \"Apple\", \"iPhone 13\", \"Negro\", 189.99, 1),\n",
    "    (\"Batería Li-Ion\", \"Samsung\", \"Galaxy S21\", \"N/A\", 49.90, 2),\n",
    "    (\"Cámara trasera 12MP\", \"Xiaomi\", \"Redmi Note 11\", \"Negro\", 29.99, 3),\n",
    "    (\"Placa base 128GB\", \"Apple\", \"iPhone 12\", \"N/A\", 289.00, 4),\n",
    "    (\"Carcasa trasera\", \"Samsung\", \"Galaxy A52\", \"Azul\", 19.95, 5),\n",
    "    (\"Altavoz interno\", \"Huawei\", \"P30\", \"Negro\", 9.95, 6),\n",
    "    (\"Sensor de proximidad\", \"Realme\", \"Realme 8\", \"N/A\", 4.75, 7)\n",
    "]\n",
    "cursor.executemany('''\n",
    "    INSERT INTO Pieza (nombre, marca, modelo_compatible, color, precio, id_categoria)\n",
    "    VALUES (?, ?, ?, ?, ?, ?)''', piezas)"
   ]
  },
  {
   "cell_type": "code",
   "execution_count": null,
   "id": "c1339123",
   "metadata": {},
   "outputs": [
    {
     "data": {
      "text/plain": [
       "<sqlite3.Cursor at 0x2327ad6af40>"
      ]
     },
     "execution_count": 20,
     "metadata": {},
     "output_type": "execute_result"
    }
   ],
   "source": [
    "cursor.execute('''\n",
    "    INSERT INTO Stock (id_proveedor, id_pieza, fecha, cantidad, ubicacion)\n",
    "    VALUES (?, ?, ?, ?, ?)''', (1, 1, \"2025-04-01\", 8, \"B2\"))  \n",
    "\n",
    "cursor.execute('''\n",
    "    INSERT INTO Stock (id_proveedor, id_pieza, fecha, cantidad, ubicacion)\n",
    "    VALUES (?, ?, ?, ?, ?)''', (2, 2, \"2025-04-01\", 12, \"A1\")) \n",
    "\n",
    "cursor.execute('''\n",
    "    INSERT INTO Stock (id_proveedor, id_pieza, fecha, cantidad, ubicacion)\n",
    "    VALUES (?, ?, ?, ?, ?)''', (3, 3, \"2025-04-01\", 20, \"C3\")) \n",
    "\n",
    "cursor.execute('''\n",
    "    INSERT INTO Stock (id_proveedor, id_pieza, fecha, cantidad, ubicacion)\n",
    "    VALUES (?, ?, ?, ?, ?)''', (4, 4, \"2025-04-01\", 4, \"B3\")) \n",
    "\n",
    "cursor.execute('''\n",
    "    INSERT INTO Stock (id_proveedor, id_pieza, fecha, cantidad, ubicacion)\n",
    "    VALUES (?, ?, ?, ?, ?)''', (5, 5, \"2025-04-01\", 10, \"A2\")) \n",
    "\n",
    "cursor.execute('''\n",
    "    INSERT INTO Stock (id_proveedor, id_pieza, fecha, cantidad, ubicacion)\n",
    "    VALUES (?, ?, ?, ?, ?)''', (6, 6, \"2025-04-01\", 18, \"D4\")) \n",
    "\n",
    "cursor.execute('''\n",
    "    INSERT INTO Stock (id_proveedor, id_pieza, fecha, cantidad, ubicacion)\n",
    "    VALUES (?, ?, ?, ?, ?)''', (7, 7, \"2025-04-01\", 30, \"E5\")) "
   ]
  },
  {
   "cell_type": "code",
   "execution_count": 16,
   "id": "78539802",
   "metadata": {},
   "outputs": [],
   "source": [
    "def sql_query(query):\n",
    "    cursor.execute(query)\n",
    "    Lista = cursor.fetchall()\n",
    "    names = [description[0] for description in cursor.description]\n",
    "    return pd.DataFrame(Lista, columns=names)"
   ]
  },
  {
   "cell_type": "code",
   "execution_count": 17,
   "id": "bbc83651",
   "metadata": {},
   "outputs": [
    {
     "data": {
      "text/html": [
       "<div>\n",
       "<style scoped>\n",
       "    .dataframe tbody tr th:only-of-type {\n",
       "        vertical-align: middle;\n",
       "    }\n",
       "\n",
       "    .dataframe tbody tr th {\n",
       "        vertical-align: top;\n",
       "    }\n",
       "\n",
       "    .dataframe thead th {\n",
       "        text-align: right;\n",
       "    }\n",
       "</style>\n",
       "<table border=\"1\" class=\"dataframe\">\n",
       "  <thead>\n",
       "    <tr style=\"text-align: right;\">\n",
       "      <th></th>\n",
       "      <th>id_proveedor</th>\n",
       "      <th>nombre</th>\n",
       "      <th>direccion</th>\n",
       "      <th>ciudad</th>\n",
       "      <th>provincia</th>\n",
       "    </tr>\n",
       "  </thead>\n",
       "  <tbody>\n",
       "  </tbody>\n",
       "</table>\n",
       "</div>"
      ],
      "text/plain": [
       "Empty DataFrame\n",
       "Columns: [id_proveedor, nombre, direccion, ciudad, provincia]\n",
       "Index: []"
      ]
     },
     "execution_count": 17,
     "metadata": {},
     "output_type": "execute_result"
    }
   ],
   "source": [
    "query='''Select * From proveedor'''\n",
    "sql_query(query)"
   ]
  },
  {
   "cell_type": "code",
   "execution_count": null,
   "id": "cd046def",
   "metadata": {},
   "outputs": [
    {
     "data": {
      "text/html": [
       "<div>\n",
       "<style scoped>\n",
       "    .dataframe tbody tr th:only-of-type {\n",
       "        vertical-align: middle;\n",
       "    }\n",
       "\n",
       "    .dataframe tbody tr th {\n",
       "        vertical-align: top;\n",
       "    }\n",
       "\n",
       "    .dataframe thead th {\n",
       "        text-align: right;\n",
       "    }\n",
       "</style>\n",
       "<table border=\"1\" class=\"dataframe\">\n",
       "  <thead>\n",
       "    <tr style=\"text-align: right;\">\n",
       "      <th></th>\n",
       "      <th>id_categoria</th>\n",
       "      <th>nombre</th>\n",
       "    </tr>\n",
       "  </thead>\n",
       "  <tbody>\n",
       "    <tr>\n",
       "      <th>0</th>\n",
       "      <td>1</td>\n",
       "      <td>Pantalla</td>\n",
       "    </tr>\n",
       "    <tr>\n",
       "      <th>1</th>\n",
       "      <td>2</td>\n",
       "      <td>Bateria</td>\n",
       "    </tr>\n",
       "    <tr>\n",
       "      <th>2</th>\n",
       "      <td>3</td>\n",
       "      <td>Camara</td>\n",
       "    </tr>\n",
       "    <tr>\n",
       "      <th>3</th>\n",
       "      <td>4</td>\n",
       "      <td>Placabase</td>\n",
       "    </tr>\n",
       "    <tr>\n",
       "      <th>4</th>\n",
       "      <td>5</td>\n",
       "      <td>Carcasa</td>\n",
       "    </tr>\n",
       "    <tr>\n",
       "      <th>5</th>\n",
       "      <td>6</td>\n",
       "      <td>Altavoz</td>\n",
       "    </tr>\n",
       "    <tr>\n",
       "      <th>6</th>\n",
       "      <td>7</td>\n",
       "      <td>Sensor</td>\n",
       "    </tr>\n",
       "  </tbody>\n",
       "</table>\n",
       "</div>"
      ],
      "text/plain": [
       "   id_categoria     nombre\n",
       "0             1   Pantalla\n",
       "1             2    Bateria\n",
       "2             3     Camara\n",
       "3             4  Placabase\n",
       "4             5    Carcasa\n",
       "5             6    Altavoz\n",
       "6             7     Sensor"
      ]
     },
     "execution_count": 36,
     "metadata": {},
     "output_type": "execute_result"
    }
   ],
   "source": [
    "query='''Select * From categoria'''\n",
    "sql_query(query)"
   ]
  },
  {
   "cell_type": "code",
   "execution_count": null,
   "id": "912f3f6e",
   "metadata": {},
   "outputs": [
    {
     "data": {
      "text/html": [
       "<div>\n",
       "<style scoped>\n",
       "    .dataframe tbody tr th:only-of-type {\n",
       "        vertical-align: middle;\n",
       "    }\n",
       "\n",
       "    .dataframe tbody tr th {\n",
       "        vertical-align: top;\n",
       "    }\n",
       "\n",
       "    .dataframe thead th {\n",
       "        text-align: right;\n",
       "    }\n",
       "</style>\n",
       "<table border=\"1\" class=\"dataframe\">\n",
       "  <thead>\n",
       "    <tr style=\"text-align: right;\">\n",
       "      <th></th>\n",
       "      <th>id_pieza</th>\n",
       "      <th>nombre</th>\n",
       "      <th>marca</th>\n",
       "      <th>modelo_compatible</th>\n",
       "      <th>color</th>\n",
       "      <th>precio</th>\n",
       "      <th>id_categoria</th>\n",
       "    </tr>\n",
       "  </thead>\n",
       "  <tbody>\n",
       "    <tr>\n",
       "      <th>0</th>\n",
       "      <td>1</td>\n",
       "      <td>Pantalla OLED</td>\n",
       "      <td>Apple</td>\n",
       "      <td>iPhone 13</td>\n",
       "      <td>Negro</td>\n",
       "      <td>189.99</td>\n",
       "      <td>1</td>\n",
       "    </tr>\n",
       "    <tr>\n",
       "      <th>1</th>\n",
       "      <td>2</td>\n",
       "      <td>Batería Li-Ion</td>\n",
       "      <td>Samsung</td>\n",
       "      <td>Galaxy S21</td>\n",
       "      <td>N/A</td>\n",
       "      <td>49.90</td>\n",
       "      <td>2</td>\n",
       "    </tr>\n",
       "    <tr>\n",
       "      <th>2</th>\n",
       "      <td>3</td>\n",
       "      <td>Cámara trasera 12MP</td>\n",
       "      <td>Xiaomi</td>\n",
       "      <td>Redmi Note 11</td>\n",
       "      <td>Negro</td>\n",
       "      <td>29.99</td>\n",
       "      <td>3</td>\n",
       "    </tr>\n",
       "    <tr>\n",
       "      <th>3</th>\n",
       "      <td>4</td>\n",
       "      <td>Placa base 128GB</td>\n",
       "      <td>Apple</td>\n",
       "      <td>iPhone 12</td>\n",
       "      <td>N/A</td>\n",
       "      <td>289.00</td>\n",
       "      <td>4</td>\n",
       "    </tr>\n",
       "    <tr>\n",
       "      <th>4</th>\n",
       "      <td>5</td>\n",
       "      <td>Carcasa trasera</td>\n",
       "      <td>Samsung</td>\n",
       "      <td>Galaxy A52</td>\n",
       "      <td>Azul</td>\n",
       "      <td>19.95</td>\n",
       "      <td>5</td>\n",
       "    </tr>\n",
       "    <tr>\n",
       "      <th>5</th>\n",
       "      <td>6</td>\n",
       "      <td>Altavoz interno</td>\n",
       "      <td>Huawei</td>\n",
       "      <td>P30</td>\n",
       "      <td>Negro</td>\n",
       "      <td>9.95</td>\n",
       "      <td>6</td>\n",
       "    </tr>\n",
       "    <tr>\n",
       "      <th>6</th>\n",
       "      <td>7</td>\n",
       "      <td>Sensor de proximidad</td>\n",
       "      <td>Realme</td>\n",
       "      <td>Realme 8</td>\n",
       "      <td>N/A</td>\n",
       "      <td>4.75</td>\n",
       "      <td>7</td>\n",
       "    </tr>\n",
       "  </tbody>\n",
       "</table>\n",
       "</div>"
      ],
      "text/plain": [
       "   id_pieza                nombre    marca modelo_compatible  color  precio  \\\n",
       "0         1         Pantalla OLED    Apple         iPhone 13  Negro  189.99   \n",
       "1         2        Batería Li-Ion  Samsung        Galaxy S21    N/A   49.90   \n",
       "2         3   Cámara trasera 12MP   Xiaomi     Redmi Note 11  Negro   29.99   \n",
       "3         4      Placa base 128GB    Apple         iPhone 12    N/A  289.00   \n",
       "4         5       Carcasa trasera  Samsung        Galaxy A52   Azul   19.95   \n",
       "5         6       Altavoz interno   Huawei               P30  Negro    9.95   \n",
       "6         7  Sensor de proximidad   Realme          Realme 8    N/A    4.75   \n",
       "\n",
       "   id_categoria  \n",
       "0             1  \n",
       "1             2  \n",
       "2             3  \n",
       "3             4  \n",
       "4             5  \n",
       "5             6  \n",
       "6             7  "
      ]
     },
     "execution_count": 38,
     "metadata": {},
     "output_type": "execute_result"
    }
   ],
   "source": [
    "query='''Select * From pieza'''\n",
    "sql_query(query)"
   ]
  },
  {
   "cell_type": "code",
   "execution_count": null,
   "id": "73d6c11c",
   "metadata": {},
   "outputs": [
    {
     "data": {
      "text/html": [
       "<div>\n",
       "<style scoped>\n",
       "    .dataframe tbody tr th:only-of-type {\n",
       "        vertical-align: middle;\n",
       "    }\n",
       "\n",
       "    .dataframe tbody tr th {\n",
       "        vertical-align: top;\n",
       "    }\n",
       "\n",
       "    .dataframe thead th {\n",
       "        text-align: right;\n",
       "    }\n",
       "</style>\n",
       "<table border=\"1\" class=\"dataframe\">\n",
       "  <thead>\n",
       "    <tr style=\"text-align: right;\">\n",
       "      <th></th>\n",
       "      <th>id_stock</th>\n",
       "      <th>id_proveedor</th>\n",
       "      <th>id_pieza</th>\n",
       "      <th>fecha</th>\n",
       "      <th>cantidad</th>\n",
       "      <th>ubicacion</th>\n",
       "    </tr>\n",
       "  </thead>\n",
       "  <tbody>\n",
       "    <tr>\n",
       "      <th>0</th>\n",
       "      <td>1</td>\n",
       "      <td>1</td>\n",
       "      <td>1</td>\n",
       "      <td>2025-04-01</td>\n",
       "      <td>8</td>\n",
       "      <td>B2</td>\n",
       "    </tr>\n",
       "    <tr>\n",
       "      <th>1</th>\n",
       "      <td>2</td>\n",
       "      <td>2</td>\n",
       "      <td>2</td>\n",
       "      <td>2025-04-01</td>\n",
       "      <td>12</td>\n",
       "      <td>A1</td>\n",
       "    </tr>\n",
       "    <tr>\n",
       "      <th>2</th>\n",
       "      <td>3</td>\n",
       "      <td>3</td>\n",
       "      <td>3</td>\n",
       "      <td>2025-04-01</td>\n",
       "      <td>20</td>\n",
       "      <td>C3</td>\n",
       "    </tr>\n",
       "    <tr>\n",
       "      <th>3</th>\n",
       "      <td>4</td>\n",
       "      <td>4</td>\n",
       "      <td>4</td>\n",
       "      <td>2025-04-01</td>\n",
       "      <td>4</td>\n",
       "      <td>B3</td>\n",
       "    </tr>\n",
       "    <tr>\n",
       "      <th>4</th>\n",
       "      <td>5</td>\n",
       "      <td>5</td>\n",
       "      <td>5</td>\n",
       "      <td>2025-04-01</td>\n",
       "      <td>10</td>\n",
       "      <td>A2</td>\n",
       "    </tr>\n",
       "    <tr>\n",
       "      <th>5</th>\n",
       "      <td>6</td>\n",
       "      <td>6</td>\n",
       "      <td>6</td>\n",
       "      <td>2025-04-01</td>\n",
       "      <td>18</td>\n",
       "      <td>D4</td>\n",
       "    </tr>\n",
       "    <tr>\n",
       "      <th>6</th>\n",
       "      <td>7</td>\n",
       "      <td>7</td>\n",
       "      <td>7</td>\n",
       "      <td>2025-04-01</td>\n",
       "      <td>30</td>\n",
       "      <td>E5</td>\n",
       "    </tr>\n",
       "  </tbody>\n",
       "</table>\n",
       "</div>"
      ],
      "text/plain": [
       "   id_stock  id_proveedor  id_pieza       fecha  cantidad ubicacion\n",
       "0         1             1         1  2025-04-01         8        B2\n",
       "1         2             2         2  2025-04-01        12        A1\n",
       "2         3             3         3  2025-04-01        20        C3\n",
       "3         4             4         4  2025-04-01         4        B3\n",
       "4         5             5         5  2025-04-01        10        A2\n",
       "5         6             6         6  2025-04-01        18        D4\n",
       "6         7             7         7  2025-04-01        30        E5"
      ]
     },
     "execution_count": 39,
     "metadata": {},
     "output_type": "execute_result"
    }
   ],
   "source": [
    "query='''Select * From stock'''\n",
    "sql_query(query)"
   ]
  },
  {
   "cell_type": "code",
   "execution_count": 9,
   "id": "90322026",
   "metadata": {},
   "outputs": [
    {
     "ename": "NameError",
     "evalue": "name 'sql_query' is not defined",
     "output_type": "error",
     "traceback": [
      "\u001b[31m---------------------------------------------------------------------------\u001b[39m",
      "\u001b[31mNameError\u001b[39m                                 Traceback (most recent call last)",
      "\u001b[36mCell\u001b[39m\u001b[36m \u001b[39m\u001b[32mIn[9]\u001b[39m\u001b[32m, line 6\u001b[39m\n\u001b[32m      1\u001b[39m \u001b[38;5;66;03m# Pedido de placas base\u001b[39;00m\n\u001b[32m      3\u001b[39m query= \u001b[33m'''\u001b[39m\n\u001b[32m      4\u001b[39m \u001b[33m    INSERT INTO Stock (id_proveedor, id_pieza, fecha, cantidad, ubicacion)\u001b[39m\n\u001b[32m      5\u001b[39m \u001b[33m    VALUES (?, ?, ?, ?, ?)\u001b[39m\u001b[33m'''\u001b[39m, (\u001b[32m4\u001b[39m, \u001b[32m4\u001b[39m, \u001b[33m\"\u001b[39m\u001b[33m2025-04-08\u001b[39m\u001b[33m\"\u001b[39m, \u001b[32m2\u001b[39m, \u001b[33m\"\u001b[39m\u001b[33mB3\u001b[39m\u001b[33m\"\u001b[39m)\n\u001b[32m----> \u001b[39m\u001b[32m6\u001b[39m \u001b[43msql_query\u001b[49m(query)\n",
      "\u001b[31mNameError\u001b[39m: name 'sql_query' is not defined"
     ]
    }
   ],
   "source": [
    "# Pedido de placas base\n",
    "\n",
    "query= '''\n",
    "    INSERT INTO Stock (id_proveedor, id_pieza, fecha, cantidad, ubicacion)\n",
    "    VALUES (?, ?, ?, ?, ?)''', (4, 4, \"2025-04-08\", 2, \"B3\")\n",
    "sql_query(query)"
   ]
  },
  {
   "cell_type": "code",
   "execution_count": 19,
   "id": "354693c1",
   "metadata": {},
   "outputs": [],
   "source": [
    "conexion.commit()\n",
    "conexion.close()"
   ]
  },
  {
   "cell_type": "code",
   "execution_count": null,
   "id": "defbf90c",
   "metadata": {},
   "outputs": [],
   "source": []
  },
  {
   "cell_type": "code",
   "execution_count": null,
   "id": "29246bef",
   "metadata": {},
   "outputs": [],
   "source": []
  },
  {
   "cell_type": "code",
   "execution_count": null,
   "id": "dcde77cb",
   "metadata": {},
   "outputs": [],
   "source": []
  }
 ],
 "metadata": {
  "kernelspec": {
   "display_name": "Python 3",
   "language": "python",
   "name": "python3"
  },
  "language_info": {
   "codemirror_mode": {
    "name": "ipython",
    "version": 3
   },
   "file_extension": ".py",
   "mimetype": "text/x-python",
   "name": "python",
   "nbconvert_exporter": "python",
   "pygments_lexer": "ipython3",
   "version": "3.13.3"
  }
 },
 "nbformat": 4,
 "nbformat_minor": 5
}
