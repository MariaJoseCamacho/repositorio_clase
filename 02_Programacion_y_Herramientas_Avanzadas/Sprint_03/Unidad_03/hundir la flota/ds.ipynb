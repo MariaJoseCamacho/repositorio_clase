{
 "cells": [
  {
   "cell_type": "code",
   "execution_count": 31,
   "metadata": {},
   "outputs": [
    {
     "ename": "AttributeError",
     "evalue": "'Barco' object has no attribute 'coordenadas'",
     "output_type": "error",
     "traceback": [
      "\u001b[1;31m---------------------------------------------------------------------------\u001b[0m",
      "\u001b[1;31mAttributeError\u001b[0m                            Traceback (most recent call last)",
      "Cell \u001b[1;32mIn[31], line 5\u001b[0m\n\u001b[0;32m      1\u001b[0m \u001b[38;5;124;03m\"\"\" \u001b[39;00m\n\u001b[0;32m      2\u001b[0m \u001b[38;5;124;03mVamos a establecer las diferentes clases\u001b[39;00m\n\u001b[0;32m      3\u001b[0m \u001b[38;5;124;03m\"\"\"\u001b[39;00m\n\u001b[0;32m      4\u001b[0m \u001b[38;5;28;01mimport\u001b[39;00m\u001b[38;5;250m \u001b[39m\u001b[38;5;21;01mvariables\u001b[39;00m\n\u001b[1;32m----> 5\u001b[0m \u001b[38;5;28;01mimport\u001b[39;00m\u001b[38;5;250m \u001b[39m\u001b[38;5;21;01mclases\u001b[39;00m\n\u001b[0;32m      6\u001b[0m \u001b[38;5;28;01mimport\u001b[39;00m\u001b[38;5;250m \u001b[39m\u001b[38;5;21;01mnumpy\u001b[39;00m\u001b[38;5;250m \u001b[39m\u001b[38;5;28;01mas\u001b[39;00m\u001b[38;5;250m \u001b[39m\u001b[38;5;21;01mnp\u001b[39;00m\n\u001b[0;32m      7\u001b[0m \u001b[38;5;28;01mimport\u001b[39;00m\u001b[38;5;250m \u001b[39m\u001b[38;5;21;01mrandom\u001b[39;00m\n",
      "File \u001b[1;32mc:\\Users\\javil\\Documents\\repositorio_mio_y_de_clase\\repositorio_clase\\02_Programacion_y_Herramientas_Avanzadas\\Sprint_03\\Unidad_03\\hundir la flota\\clases.py:54\u001b[0m\n\u001b[0;32m     51\u001b[0m             tablerotemp[x,y]\u001b[38;5;241m=\u001b[39m\u001b[38;5;124m\"\u001b[39m\u001b[38;5;124mO\u001b[39m\u001b[38;5;124m\"\u001b[39m\n\u001b[0;32m     52\u001b[0m         \u001b[38;5;28;01mreturn\u001b[39;00m tablerotemp\n\u001b[1;32m---> 54\u001b[0m destructor \u001b[38;5;241m=\u001b[39m \u001b[43mBarco\u001b[49m\u001b[43m(\u001b[49m\u001b[38;5;124;43m\"\u001b[39;49m\u001b[38;5;124;43mDestructor\u001b[39;49m\u001b[38;5;124;43m\"\u001b[39;49m\u001b[43m,\u001b[49m\u001b[43m \u001b[49m\u001b[38;5;241;43m1\u001b[39;49m\u001b[43m,\u001b[49m\u001b[43m \u001b[49m\u001b[38;5;241;43m4\u001b[39;49m\u001b[43m)\u001b[49m\n\u001b[0;32m     55\u001b[0m Submarino \u001b[38;5;241m=\u001b[39m Barco(\u001b[38;5;124m\"\u001b[39m\u001b[38;5;124mSubmarino\u001b[39m\u001b[38;5;124m\"\u001b[39m, \u001b[38;5;241m2\u001b[39m, \u001b[38;5;241m3\u001b[39m)\n\u001b[0;32m     56\u001b[0m Acorazado \u001b[38;5;241m=\u001b[39m Barco(\u001b[38;5;124m\"\u001b[39m\u001b[38;5;124mAcorazado\u001b[39m\u001b[38;5;124m\"\u001b[39m, \u001b[38;5;241m3\u001b[39m, \u001b[38;5;241m2\u001b[39m)\n",
      "File \u001b[1;32mc:\\Users\\javil\\Documents\\repositorio_mio_y_de_clase\\repositorio_clase\\02_Programacion_y_Herramientas_Avanzadas\\Sprint_03\\Unidad_03\\hundir la flota\\clases.py:16\u001b[0m, in \u001b[0;36mBarco.__init__\u001b[1;34m(self, nombre, tamaño, cantidad)\u001b[0m\n\u001b[0;32m     14\u001b[0m \u001b[38;5;28mself\u001b[39m\u001b[38;5;241m.\u001b[39mcantidad \u001b[38;5;241m=\u001b[39m cantidad\n\u001b[0;32m     15\u001b[0m \u001b[38;5;28mself\u001b[39m\u001b[38;5;241m.\u001b[39mimpactos \u001b[38;5;241m=\u001b[39m \u001b[38;5;241m0\u001b[39m\n\u001b[1;32m---> 16\u001b[0m \u001b[38;5;28mself\u001b[39m\u001b[38;5;241m.\u001b[39mposicion \u001b[38;5;241m=\u001b[39m \u001b[38;5;28;43mself\u001b[39;49m\u001b[38;5;241;43m.\u001b[39;49m\u001b[43mposicioninicial\u001b[49m\u001b[43m(\u001b[49m\u001b[43m)\u001b[49m\n\u001b[0;32m     17\u001b[0m \u001b[38;5;28mself\u001b[39m\u001b[38;5;241m.\u001b[39mcoordenadas\u001b[38;5;241m=\u001b[39m[]\n",
      "File \u001b[1;32mc:\\Users\\javil\\Documents\\repositorio_mio_y_de_clase\\repositorio_clase\\02_Programacion_y_Herramientas_Avanzadas\\Sprint_03\\Unidad_03\\hundir la flota\\clases.py:31\u001b[0m, in \u001b[0;36mBarco.posicioninicial\u001b[1;34m(self)\u001b[0m\n\u001b[0;32m     29\u001b[0m     columna \u001b[38;5;241m=\u001b[39m np\u001b[38;5;241m.\u001b[39mrandom\u001b[38;5;241m.\u001b[39mrandint(\u001b[38;5;241m0\u001b[39m, \u001b[38;5;241m10\u001b[39m)\n\u001b[0;32m     30\u001b[0m     coordenada \u001b[38;5;241m=\u001b[39m (fila, columna)\n\u001b[1;32m---> 31\u001b[0m     \u001b[38;5;28;01mif\u001b[39;00m coordenada \u001b[38;5;129;01mnot\u001b[39;00m \u001b[38;5;129;01min\u001b[39;00m \u001b[38;5;28;43mself\u001b[39;49m\u001b[38;5;241;43m.\u001b[39;49m\u001b[43mcoordenadas\u001b[49m:  \u001b[38;5;66;03m# Asegura que no se repitan coordenadas\u001b[39;00m\n\u001b[0;32m     32\u001b[0m         \u001b[38;5;28mself\u001b[39m\u001b[38;5;241m.\u001b[39mcoordenadas\u001b[38;5;241m.\u001b[39mappend(coordenada)\n\u001b[0;32m     33\u001b[0m \u001b[38;5;28;01mreturn\u001b[39;00m \u001b[38;5;28mself\u001b[39m\u001b[38;5;241m.\u001b[39mcoordenadas\n",
      "\u001b[1;31mAttributeError\u001b[0m: 'Barco' object has no attribute 'coordenadas'"
     ]
    }
   ],
   "source": [
    "\"\"\" \n",
    "Vamos a establecer las diferentes clases\n",
    "\"\"\"\n",
    "import variables\n",
    "import clases\n",
    "import numpy as np\n",
    "import random"
   ]
  },
  {
   "cell_type": "code",
   "execution_count": 30,
   "metadata": {},
   "outputs": [],
   "source": [
    "destructor = Barco(\"Destructor\", 1, 4)\n",
    "Submarino = Barco(\"Submarino\", 2, 3)\n",
    "Acorazado = Barco(\"Acorazado\", 3, 2)\n",
    "Portaaviones = Barco(\"Portaaviones\", 4, 1)     "
   ]
  },
  {
   "cell_type": "code",
   "execution_count": 11,
   "metadata": {},
   "outputs": [],
   "source": [
    "class Tablero:\n",
    "\n",
    "    def creatablero (self,lado=10):\n",
    "        return np.full((lado, lado),\" \" )\n",
    "    \n",
    "    def colocabarco(self,barco, tablero):\n",
    "        orientación= [\"N\",\"S\",\"E\",\"O\"]\n",
    "        colocar= barco.posicion\n",
    "        newori=np.random.choice(orientación)\n",
    "        fila, columna = colocar[0]\n",
    "        \n",
    "        if newori == \"N\" and fila - (barco.cantidad - 1) >= 0:\n",
    "            for i in range(barco.cantidad):\n",
    "                if tablero[fila - i, columna] != \" \" and tablero == tablerojp:\n",
    "                    return \"Espacio ocupado, intenta de nuevo.\"\n",
    "            for i in range(barco.cantidad):\n",
    "                tablero[fila - i, columna] = \"O\"\n",
    "\n",
    "        elif newori == \"S\" and fila + (barco.cantidad - 1) < 10 and tablero == tablerojp:\n",
    "            for i in range(barco.cantidad):\n",
    "                if tablero[fila + i, columna] != \" \":\n",
    "                    return \"Espacio ocupado, intenta de nuevo.\"\n",
    "            for i in range(barco.cantidad):\n",
    "                tablero[fila + i, columna] = \"O\"\n",
    "\n",
    "        elif newori == \"E\" and columna + (barco.cantidad - 1) < 10 and tablero == tablerojp:\n",
    "            for i in range(barco.cantidad):\n",
    "                if tablero[fila, columna + i] != \" \":\n",
    "                    return \"Espacio ocupado, intenta de nuevo.\"\n",
    "            for i in range(barco.cantidad):\n",
    "                tablero[fila, columna + i] = \"O\"\n",
    "\n",
    "        elif newori == \"O\" and columna - (barco.cantidad - 1) >= 0 and tablero == tablerojp:\n",
    "            for i in range(barco.cantidad):\n",
    "                if tablero[fila, columna - i] != \" \":\n",
    "                    return \"Espacio ocupado, intenta de nuevo.\"\n",
    "            for i in range(barco.cantidad):\n",
    "                tablero[fila, columna - i] = \"O\"\n",
    "        else:\n",
    "            print(f\"La CPU ha colocado sus barcos\")\n",
    "        return tablero"
   ]
  },
  {
   "cell_type": "code",
   "execution_count": 17,
   "metadata": {},
   "outputs": [],
   "source": [
    "def iniciarjuego():\n",
    "    print(mensajeinicial)\n",
    "    nombrejp = input(\"Nombre de jugador:\")\n",
    "    print(tablerojp)\n",
    "    print(f\"Bienvenido {nombrejp} vamos a colocar tus barcos\")"
   ]
  },
  {
   "cell_type": "code",
   "execution_count": 19,
   "metadata": {},
   "outputs": [
    {
     "ename": "NameError",
     "evalue": "name 'mensajeinicial' is not defined",
     "output_type": "error",
     "traceback": [
      "\u001b[1;31m---------------------------------------------------------------------------\u001b[0m",
      "\u001b[1;31mNameError\u001b[0m                                 Traceback (most recent call last)",
      "Cell \u001b[1;32mIn[19], line 1\u001b[0m\n\u001b[1;32m----> 1\u001b[0m \u001b[43miniciarjuego\u001b[49m\u001b[43m(\u001b[49m\u001b[43m)\u001b[49m\n",
      "Cell \u001b[1;32mIn[17], line 2\u001b[0m, in \u001b[0;36miniciarjuego\u001b[1;34m()\u001b[0m\n\u001b[0;32m      1\u001b[0m \u001b[38;5;28;01mdef\u001b[39;00m\u001b[38;5;250m \u001b[39m\u001b[38;5;21miniciarjuego\u001b[39m():\n\u001b[1;32m----> 2\u001b[0m     \u001b[38;5;28mprint\u001b[39m(\u001b[43mmensajeinicial\u001b[49m)\n\u001b[0;32m      3\u001b[0m     nombrejp \u001b[38;5;241m=\u001b[39m \u001b[38;5;28minput\u001b[39m(\u001b[38;5;124m\"\u001b[39m\u001b[38;5;124mNombre de jugador:\u001b[39m\u001b[38;5;124m\"\u001b[39m)\n\u001b[0;32m      4\u001b[0m     \u001b[38;5;28mprint\u001b[39m(tablerojp)\n",
      "\u001b[1;31mNameError\u001b[0m: name 'mensajeinicial' is not defined"
     ]
    }
   ],
   "source": [
    "iniciarjuego()"
   ]
  },
  {
   "cell_type": "code",
   "execution_count": null,
   "metadata": {},
   "outputs": [],
   "source": []
  }
 ],
 "metadata": {
  "kernelspec": {
   "display_name": "Python 3",
   "language": "python",
   "name": "python3"
  },
  "language_info": {
   "codemirror_mode": {
    "name": "ipython",
    "version": 3
   },
   "file_extension": ".py",
   "mimetype": "text/x-python",
   "name": "python",
   "nbconvert_exporter": "python",
   "pygments_lexer": "ipython3",
   "version": "3.12.8"
  }
 },
 "nbformat": 4,
 "nbformat_minor": 2
}
